{
 "cells": [
  {
   "cell_type": "markdown",
   "metadata": {
    "id": "ridiawM8zYpp"
   },
   "source": [
    "## Sentiment Classification of Tweets Using BiGRU"
   ]
  },
  {
   "cell_type": "code",
   "execution_count": 1,
   "metadata": {
    "id": "k86HOjYmtL1j"
   },
   "outputs": [],
   "source": [
    "import numpy as np\n",
    "import csv\n",
    "import torch\n",
    "import torch.nn as nn\n",
    "import torchtext\n",
    "import torch.nn.functional as F\n",
    "import torch.optim as optim\n",
    "import matplotlib.pyplot as plt"
   ]
  },
  {
   "cell_type": "markdown",
   "metadata": {
    "id": "JOBT9EGV2wwf"
   },
   "source": [
    "### **Dataset Preparation and Preprocessing**"
   ]
  },
  {
   "cell_type": "code",
   "execution_count": 3,
   "metadata": {
    "colab": {
     "base_uri": "https://localhost:8080/"
    },
    "id": "radfP-cXt8bJ",
    "outputId": "084fae31-d83f-4580-a7ab-3c3cd3b861c2"
   },
   "outputs": [
    {
     "name": "stdout",
     "output_type": "stream",
     "text": [
      "['0', '1467810369', 'Mon Apr 06 22:19:45 PDT 2009', 'NO_QUERY', '_TheSpecialOne_', \"@switchfoot http://twitpic.com/2y1zl - Awww, that's a bummer.  You shoulda got David Carr of Third Day to do it. ;D\"]\n",
      "['0', '1467810672', 'Mon Apr 06 22:19:49 PDT 2009', 'NO_QUERY', 'scotthamilton', \"is upset that he can't update his Facebook by texting it... and might cry as a result  School today also. Blah!\"]\n",
      "['0', '1467810917', 'Mon Apr 06 22:19:53 PDT 2009', 'NO_QUERY', 'mattycus', '@Kenichan I dived many times for the ball. Managed to save 50%  The rest go out of bounds']\n",
      "['0', '1467811184', 'Mon Apr 06 22:19:57 PDT 2009', 'NO_QUERY', 'ElleCTF', 'my whole body feels itchy and like its on fire ']\n",
      "['0', '1467811193', 'Mon Apr 06 22:19:57 PDT 2009', 'NO_QUERY', 'Karoli', \"@nationwideclass no, it's not behaving at all. i'm mad. why am i here? because I can't see you all over there. \"]\n",
      "['0', '1467811372', 'Mon Apr 06 22:20:00 PDT 2009', 'NO_QUERY', 'joy_wolf', '@Kwesidei not the whole crew ']\n"
     ]
    }
   ],
   "source": [
    "# read the data\n",
    "def read_data():\n",
    "    return csv.reader(open(\"./training.1600000.processed.noemoticon.csv\", \"rt\", encoding=\"latin-1\"))\n",
    "    \n",
    "# print the head (i.e., the first 5 rows) of the dataset\n",
    "for i, row in enumerate(read_data()):\n",
    "    print(row)\n",
    "    if i >= 5:\n",
    "        break"
   ]
  },
  {
   "cell_type": "code",
   "execution_count": 4,
   "metadata": {
    "id": "Zq12C0yZvw31"
   },
   "outputs": [],
   "source": [
    "# Convert the text into lowercase characters and split it\n",
    "def split_text(text):\n",
    "    text = text.replace(\".\", \" . \").replace(\"?\", \" ? \").replace(\",\", \" , \").replace(\";\", \" ; \")\n",
    "    return text.lower().split()"
   ]
  },
  {
   "cell_type": "code",
   "execution_count": 5,
   "metadata": {
    "id": "Eld9o-CAru3K"
   },
   "outputs": [],
   "source": [
    "# get the indices of individual words for each tweet using GloVe\n",
    "glove = torchtext.vocab.GloVe(name=\"6B\", dim=50)\n",
    "import random\n",
    "lst = list()\n",
    "for i, row in enumerate(read_data()):\n",
    "    if i % 5 == 0:\n",
    "        text = row[-1]\n",
    "        indices = [glove.stoi[w] for w in split_text(text) if w in glove.stoi]\n",
    "        if not indices:\n",
    "            continue\n",
    "        indices = torch.tensor(indices)  # store the indices of words for each tweet in a PyTorch tensor\n",
    "        label = [0 if row[0]==\"0\" else 1 if row[0]==\"4\" else 2]\n",
    "        label = torch.tensor(label[-1])  # store the label of each tweet in a PyTorch tensor\n",
    "        lst.append((indices, label))"
   ]
  },
  {
   "cell_type": "code",
   "execution_count": 6,
   "metadata": {
    "colab": {
     "base_uri": "https://localhost:8080/"
    },
    "id": "M4Uifg3g42Et",
    "outputId": "be43c99d-d793-4a7b-da13-2bee5b146946"
   },
   "outputs": [
    {
     "name": "stdout",
     "output_type": "stream",
     "text": [
      "Tweet:\n",
      " tensor([   41,   733,    41,   405,    60,    22, 78188,    41,    86,   588,\n",
      "          169,   180,     4,    37,  6844,    22,   364,  3496,     1, 73048,\n",
      "            2,   595,     4,    30,    56,   117,     0])\n",
      "Label:\n",
      " tensor(1)\n"
     ]
    }
   ],
   "source": [
    "# randomly split the dataset into train, validation and test sets\n",
    "random.seed(20)\n",
    "random.shuffle(lst)\n",
    "train_set = lst[:round(len(lst)*0.6)]\n",
    "valid_set = lst[round(len(lst)*0.6):round(len(lst)*0.8)]\n",
    "test_set = lst[round(len(lst)*0.8):]\n",
    "\n",
    "# an example from the train set\n",
    "tweet, label = train_set[23]\n",
    "print('Tweet:\\n', tweet)\n",
    "print('Label:\\n', label)"
   ]
  },
  {
   "cell_type": "markdown",
   "metadata": {
    "id": "tq96xEW53Uz0"
   },
   "source": [
    "### **Building Bidirectional GRU Model**"
   ]
  },
  {
   "cell_type": "code",
   "execution_count": 7,
   "metadata": {
    "id": "S4qBq3rmLc-L"
   },
   "outputs": [],
   "source": [
    "# build the BiGRU model\n",
    "class TweetBiGRU(nn.Module):\n",
    "    def __init__(self, input_size, hidden_size, num_classes):\n",
    "        super(TweetBiGRU, self).__init__()\n",
    "        self.embedding = nn.Embedding.from_pretrained(glove.vectors)\n",
    "        self.hidden_size = hidden_size\n",
    "        self.encoder = nn.GRU(input_size, hidden_size, batch_first=True, \n",
    "                              bidirectional=True)\n",
    "        self.predictor = nn.Linear(hidden_size*2, num_classes)\n",
    "    \n",
    "    def forward(self, x):\n",
    "        embedded = self.embedding(x)\n",
    "        output, hidden = self.encoder(embedded)\n",
    "        output = self.predictor(output[:, -1, :])\n",
    "        return output\n",
    "\n",
    "model = TweetBiGRU(50, 100, 3)"
   ]
  },
  {
   "cell_type": "code",
   "execution_count": 8,
   "metadata": {
    "id": "_Y8BvHnBUWzW"
   },
   "outputs": [],
   "source": [
    "# batch tweets together\n",
    "class TweetBatcher:\n",
    "    def __init__(self, tweets, batch_size=64, drop_last=False):\n",
    "        self.tweets_by_length = {}\n",
    "        for words, label in tweets:\n",
    "            wlen = words.shape[0]\n",
    "            if wlen not in self.tweets_by_length:\n",
    "                self.tweets_by_length[wlen] = []\n",
    "            self.tweets_by_length[wlen].append((words, label),)\n",
    "         \n",
    "        self.loaders = {wlen : torch.utils.data.DataLoader(\n",
    "                                    tweets,\n",
    "                                    batch_size=batch_size,\n",
    "                                    shuffle=True,\n",
    "                                    drop_last=drop_last)\n",
    "            for wlen, tweets in self.tweets_by_length.items()}\n",
    "        \n",
    "    def __iter__(self): \n",
    "        iters = [iter(loader) for loader in self.loaders.values()]\n",
    "        while iters:\n",
    "            im = random.choice(iters)\n",
    "            try:\n",
    "                yield next(im)\n",
    "            except StopIteration:\n",
    "                iters.remove(im)"
   ]
  },
  {
   "cell_type": "markdown",
   "metadata": {
    "id": "yEBukGA94SJF"
   },
   "source": [
    "### **Training the Model**"
   ]
  },
  {
   "cell_type": "code",
   "execution_count": 9,
   "metadata": {
    "id": "dECF2lGvUw6V"
   },
   "outputs": [],
   "source": [
    "def evaluate_acc(model, data):\n",
    "    correct, total = 0, 0\n",
    "    for tweets, labels in data:\n",
    "        output = model(tweets)\n",
    "        pred = output.max(1, keepdim=True)[1]\n",
    "        correct += pred.eq(labels.view_as(pred)).sum().item()\n",
    "        total += labels.shape[0]\n",
    "    return correct / total"
   ]
  },
  {
   "cell_type": "code",
   "execution_count": 10,
   "metadata": {
    "id": "-g1_LJq6UvCj"
   },
   "outputs": [],
   "source": [
    "def train_BiGRU(model, train_sdata, valid_data, num_epochs=10, learning_rate=1e-5):\n",
    "    criterion = nn.CrossEntropyLoss()\n",
    "    optimizer = torch.optim.Adam(model.parameters(), lr=learning_rate)\n",
    "    losses, train_acc, val_acc = [], [], []\n",
    "    epochs = []\n",
    "    for epoch in range(num_epochs):\n",
    "        for tweets, labels in train_data:\n",
    "            optimizer.zero_grad()\n",
    "            pred = model(tweets)\n",
    "            loss = criterion(pred, labels)\n",
    "            loss.backward()\n",
    "            optimizer.step()\n",
    "        losses.append(float(loss))\n",
    "        epochs.append(epoch)\n",
    "        train_acc.append(evaluate_acc(model, train_data))\n",
    "        val_acc.append(evaluate_acc(model, valid_data))\n",
    "        print(\"Epoch %d:\\n\\tLoss %f; Train Accuracy %f; Validation Accuracy %f\" % \n",
    "              (epoch+1, loss, train_acc[-1], val_acc[-1]))\n",
    "\n",
    "    # plot the training curve\n",
    "    plt.plot(epochs, train_acc, label=\"Train\")\n",
    "    plt.plot(epochs, val_acc, label=\"Validation\")\n",
    "    plt.title(\"Training Curve\")\n",
    "    plt.xlabel(\"Epoch\"); plt.ylabel(\"Accuracy\"); plt.legend()\n",
    "    plt.xticks(np.arange(0, 15, 1))\n",
    "    plt.show()"
   ]
  },
  {
   "cell_type": "code",
   "execution_count": 11,
   "metadata": {
    "colab": {
     "base_uri": "https://localhost:8080/",
     "height": 816
    },
    "id": "sJBPWAIlU-9-",
    "outputId": "3066e055-ca1a-4a83-f332-e57312dd3af0"
   },
   "outputs": [
    {
     "name": "stdout",
     "output_type": "stream",
     "text": [
      "Epoch 1:\n",
      "\tLoss 0.660328; Train Accuracy 0.617417; Validation Accuracy 0.617276\n",
      "Epoch 2:\n",
      "\tLoss 0.635153; Train Accuracy 0.675922; Validation Accuracy 0.671618\n",
      "Epoch 3:\n",
      "\tLoss 0.553600; Train Accuracy 0.684682; Validation Accuracy 0.682371\n",
      "Epoch 4:\n",
      "\tLoss 0.620217; Train Accuracy 0.692107; Validation Accuracy 0.687464\n",
      "Epoch 5:\n",
      "\tLoss 0.547909; Train Accuracy 0.696898; Validation Accuracy 0.692101\n",
      "Epoch 6:\n",
      "\tLoss 0.543435; Train Accuracy 0.697964; Validation Accuracy 0.694113\n",
      "Epoch 7:\n",
      "\tLoss 0.623028; Train Accuracy 0.703352; Validation Accuracy 0.698562\n",
      "Epoch 8:\n",
      "\tLoss 0.600593; Train Accuracy 0.705816; Validation Accuracy 0.701360\n",
      "Epoch 9:\n",
      "\tLoss 0.516524; Train Accuracy 0.708629; Validation Accuracy 0.704551\n",
      "Epoch 10:\n",
      "\tLoss 0.468757; Train Accuracy 0.710882; Validation Accuracy 0.705793\n",
      "Epoch 11:\n",
      "\tLoss 0.508517; Train Accuracy 0.712718; Validation Accuracy 0.707805\n",
      "Epoch 12:\n",
      "\tLoss 0.505252; Train Accuracy 0.712455; Validation Accuracy 0.707993\n",
      "Epoch 13:\n",
      "\tLoss 0.477523; Train Accuracy 0.716866; Validation Accuracy 0.712599\n",
      "Epoch 14:\n",
      "\tLoss 0.597920; Train Accuracy 0.718465; Validation Accuracy 0.713951\n",
      "Epoch 15:\n",
      "\tLoss 0.529569; Train Accuracy 0.720085; Validation Accuracy 0.715114\n"
     ]
    },
    {
     "data": {
      "image/png": "[encoded data removed]",
      "text/plain": [
       "<Figure size 432x288 with 1 Axes>"
      ]
     },
     "metadata": {
      "needs_background": "light"
     },
     "output_type": "display_data"
    }
   ],
   "source": [
    "# train the model\n",
    "train_data = TweetBatcher(train_set, batch_size=64, drop_last=True)\n",
    "valid_data = TweetBatcher(valid_set, batch_size=64, drop_last=False)\n",
    "train_BiGRU(model, train_data, valid_data, num_epochs=15, learning_rate=2e-5)"
   ]
  },
  {
   "cell_type": "markdown",
   "metadata": {
    "id": "UGmWgnLf4oZ4"
   },
   "source": [
    "### **Evaluation**"
   ]
  },
  {
   "cell_type": "code",
   "execution_count": 13,
   "metadata": {
    "colab": {
     "base_uri": "https://localhost:8080/"
    },
    "id": "RC32suF2iBuD",
    "outputId": "35bdb890-0604-426e-8623-d3d72687b8d5"
   },
   "outputs": [
    {
     "name": "stdout",
     "output_type": "stream",
     "text": [
      "Test Accuracy: 0.7156061368209256\n"
     ]
    }
   ],
   "source": [
    "# get the accuracy on the test set\n",
    "test_data = TweetBatcher(test_set, batch_size=64, drop_last=False)\n",
    "test_acc = evaluate_acc(model, test_data)\n",
    "print('Test Accuracy:', test_acc)"
   ]
  },
  {
   "cell_type": "code",
   "execution_count": null,
   "metadata": {},
   "outputs": [],
   "source": []
  }
 ],
 "metadata": {
  "colab": {
   "name": "12_SentimentAnalysis_BiGRU.ipynb",
   "provenance": []
  },
  "kernelspec": {
   "display_name": "Python 3",
   "language": "python",
   "name": "python3"
  },
  "language_info": {
   "codemirror_mode": {
    "name": "ipython",
    "version": 3
   },
   "file_extension": ".py",
   "mimetype": "text/x-python",
   "name": "python",
   "nbconvert_exporter": "python",
   "pygments_lexer": "ipython3",
   "version": "3.8.10"
  }
 },
 "nbformat": 4,
 "nbformat_minor": 1
}
