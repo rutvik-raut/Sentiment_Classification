{
 "cells": [
  {
   "cell_type": "code",
   "execution_count": 1,
   "id": "456ee5be",
   "metadata": {},
   "outputs": [],
   "source": [
    "# Importing libraries for data loading, basic data pre processing and visualization\n",
    "\n",
    "import pandas as pd\n",
    "import numpy as np\n",
    "import matplotlib.pyplot as plt"
   ]
  },
  {
   "cell_type": "code",
   "execution_count": 2,
   "id": "0c5221f8",
   "metadata": {},
   "outputs": [
    {
     "data": {
      "text/html": [
       "<div>\n",
       "<style scoped>\n",
       "    .dataframe tbody tr th:only-of-type {\n",
       "        vertical-align: middle;\n",
       "    }\n",
       "\n",
       "    .dataframe tbody tr th {\n",
       "        vertical-align: top;\n",
       "    }\n",
       "\n",
       "    .dataframe thead th {\n",
       "        text-align: right;\n",
       "    }\n",
       "</style>\n",
       "<table border=\"1\" class=\"dataframe\">\n",
       "  <thead>\n",
       "    <tr style=\"text-align: right;\">\n",
       "      <th></th>\n",
       "      <th>polarity</th>\n",
       "      <th>id</th>\n",
       "      <th>date</th>\n",
       "      <th>query</th>\n",
       "      <th>user</th>\n",
       "      <th>text</th>\n",
       "    </tr>\n",
       "  </thead>\n",
       "  <tbody>\n",
       "    <tr>\n",
       "      <th>0</th>\n",
       "      <td>0</td>\n",
       "      <td>1467810369</td>\n",
       "      <td>Mon Apr 06 22:19:45 PDT 2009</td>\n",
       "      <td>NO_QUERY</td>\n",
       "      <td>_TheSpecialOne_</td>\n",
       "      <td>@switchfoot http://twitpic.com/2y1zl - Awww, t...</td>\n",
       "    </tr>\n",
       "    <tr>\n",
       "      <th>1</th>\n",
       "      <td>0</td>\n",
       "      <td>1467810672</td>\n",
       "      <td>Mon Apr 06 22:19:49 PDT 2009</td>\n",
       "      <td>NO_QUERY</td>\n",
       "      <td>scotthamilton</td>\n",
       "      <td>is upset that he can't update his Facebook by ...</td>\n",
       "    </tr>\n",
       "    <tr>\n",
       "      <th>2</th>\n",
       "      <td>0</td>\n",
       "      <td>1467810917</td>\n",
       "      <td>Mon Apr 06 22:19:53 PDT 2009</td>\n",
       "      <td>NO_QUERY</td>\n",
       "      <td>mattycus</td>\n",
       "      <td>@Kenichan I dived many times for the ball. Man...</td>\n",
       "    </tr>\n",
       "    <tr>\n",
       "      <th>3</th>\n",
       "      <td>0</td>\n",
       "      <td>1467811184</td>\n",
       "      <td>Mon Apr 06 22:19:57 PDT 2009</td>\n",
       "      <td>NO_QUERY</td>\n",
       "      <td>ElleCTF</td>\n",
       "      <td>my whole body feels itchy and like its on fire</td>\n",
       "    </tr>\n",
       "    <tr>\n",
       "      <th>4</th>\n",
       "      <td>0</td>\n",
       "      <td>1467811193</td>\n",
       "      <td>Mon Apr 06 22:19:57 PDT 2009</td>\n",
       "      <td>NO_QUERY</td>\n",
       "      <td>Karoli</td>\n",
       "      <td>@nationwideclass no, it's not behaving at all....</td>\n",
       "    </tr>\n",
       "  </tbody>\n",
       "</table>\n",
       "</div>"
      ],
      "text/plain": [
       "   polarity          id                          date     query  \\\n",
       "0         0  1467810369  Mon Apr 06 22:19:45 PDT 2009  NO_QUERY   \n",
       "1         0  1467810672  Mon Apr 06 22:19:49 PDT 2009  NO_QUERY   \n",
       "2         0  1467810917  Mon Apr 06 22:19:53 PDT 2009  NO_QUERY   \n",
       "3         0  1467811184  Mon Apr 06 22:19:57 PDT 2009  NO_QUERY   \n",
       "4         0  1467811193  Mon Apr 06 22:19:57 PDT 2009  NO_QUERY   \n",
       "\n",
       "              user                                               text  \n",
       "0  _TheSpecialOne_  @switchfoot http://twitpic.com/2y1zl - Awww, t...  \n",
       "1    scotthamilton  is upset that he can't update his Facebook by ...  \n",
       "2         mattycus  @Kenichan I dived many times for the ball. Man...  \n",
       "3          ElleCTF    my whole body feels itchy and like its on fire   \n",
       "4           Karoli  @nationwideclass no, it's not behaving at all....  "
      ]
     },
     "execution_count": 2,
     "metadata": {},
     "output_type": "execute_result"
    }
   ],
   "source": [
    "# Loading the dataset\n",
    "\n",
    "df_train_raw = pd.read_csv('train.csv', sep=',', header=None, encoding = \"ISO-8859-1\")\n",
    "df_train_raw.columns = [\"polarity\", \"id\", \"date\", \"query\", \"user\", \"text\"]\n",
    "df_train_raw.head()"
   ]
  },
  {
   "cell_type": "code",
   "execution_count": 3,
   "id": "1c6a6804",
   "metadata": {},
   "outputs": [
    {
     "name": "stdout",
     "output_type": "stream",
     "text": [
      "<class 'pandas.core.frame.DataFrame'>\n",
      "RangeIndex: 1600000 entries, 0 to 1599999\n",
      "Data columns (total 6 columns):\n",
      " #   Column    Non-Null Count    Dtype \n",
      "---  ------    --------------    ----- \n",
      " 0   polarity  1600000 non-null  int64 \n",
      " 1   id        1600000 non-null  int64 \n",
      " 2   date      1600000 non-null  object\n",
      " 3   query     1600000 non-null  object\n",
      " 4   user      1600000 non-null  object\n",
      " 5   text      1600000 non-null  object\n",
      "dtypes: int64(2), object(4)\n",
      "memory usage: 73.2+ MB\n"
     ]
    }
   ],
   "source": [
    "# Getting info about the dataset to see if there are any null values and checking the datatype of each column\n",
    "\n",
    "df_train_raw.info()"
   ]
  },
  {
   "cell_type": "code",
   "execution_count": 4,
   "id": "47fe0230",
   "metadata": {},
   "outputs": [
    {
     "data": {
      "text/plain": [
       "0    800000\n",
       "4    800000\n",
       "Name: polarity, dtype: int64"
      ]
     },
     "execution_count": 4,
     "metadata": {},
     "output_type": "execute_result"
    }
   ],
   "source": [
    "# Having a look at the number of Positive and Negative sentiments\n",
    "\n",
    "df_train_raw['polarity'].value_counts()"
   ]
  },
  {
   "cell_type": "code",
   "execution_count": 5,
   "id": "368e9b36",
   "metadata": {},
   "outputs": [
    {
     "data": {
      "text/html": [
       "<div>\n",
       "<style scoped>\n",
       "    .dataframe tbody tr th:only-of-type {\n",
       "        vertical-align: middle;\n",
       "    }\n",
       "\n",
       "    .dataframe tbody tr th {\n",
       "        vertical-align: top;\n",
       "    }\n",
       "\n",
       "    .dataframe thead th {\n",
       "        text-align: right;\n",
       "    }\n",
       "</style>\n",
       "<table border=\"1\" class=\"dataframe\">\n",
       "  <thead>\n",
       "    <tr style=\"text-align: right;\">\n",
       "      <th></th>\n",
       "      <th>polarity</th>\n",
       "      <th>text</th>\n",
       "    </tr>\n",
       "  </thead>\n",
       "  <tbody>\n",
       "    <tr>\n",
       "      <th>0</th>\n",
       "      <td>0</td>\n",
       "      <td>@switchfoot http://twitpic.com/2y1zl - Awww, t...</td>\n",
       "    </tr>\n",
       "    <tr>\n",
       "      <th>1</th>\n",
       "      <td>0</td>\n",
       "      <td>is upset that he can't update his Facebook by ...</td>\n",
       "    </tr>\n",
       "    <tr>\n",
       "      <th>2</th>\n",
       "      <td>0</td>\n",
       "      <td>@Kenichan I dived many times for the ball. Man...</td>\n",
       "    </tr>\n",
       "    <tr>\n",
       "      <th>3</th>\n",
       "      <td>0</td>\n",
       "      <td>my whole body feels itchy and like its on fire</td>\n",
       "    </tr>\n",
       "    <tr>\n",
       "      <th>4</th>\n",
       "      <td>0</td>\n",
       "      <td>@nationwideclass no, it's not behaving at all....</td>\n",
       "    </tr>\n",
       "  </tbody>\n",
       "</table>\n",
       "</div>"
      ],
      "text/plain": [
       "   polarity                                               text\n",
       "0         0  @switchfoot http://twitpic.com/2y1zl - Awww, t...\n",
       "1         0  is upset that he can't update his Facebook by ...\n",
       "2         0  @Kenichan I dived many times for the ball. Man...\n",
       "3         0    my whole body feels itchy and like its on fire \n",
       "4         0  @nationwideclass no, it's not behaving at all...."
      ]
     },
     "execution_count": 5,
     "metadata": {},
     "output_type": "execute_result"
    }
   ],
   "source": [
    "# Extracting only the required columns from the original dataset\n",
    "\n",
    "df_train = df_train_raw[['polarity', 'text']]\n",
    "df_train.head()"
   ]
  },
  {
   "cell_type": "markdown",
   "id": "ab82404e",
   "metadata": {},
   "source": [
    "### As we did not have enough computing resources, we decided to only use half of the original dataset for the purpose of the project"
   ]
  },
  {
   "cell_type": "code",
   "execution_count": 6,
   "id": "26afa3a9",
   "metadata": {},
   "outputs": [
    {
     "name": "stdout",
     "output_type": "stream",
     "text": [
      "800000 800000\n"
     ]
    }
   ],
   "source": [
    "# As we saw above, the dataset is balanced perfectly. Hence we decided to use half of the positive and negative sentiments.\n",
    "\n",
    "p = df_train[df_train['polarity'] == 4]\n",
    "n = df_train[df_train['polarity'] == 0]\n",
    "print(len(p), len(n))"
   ]
  },
  {
   "cell_type": "code",
   "execution_count": 7,
   "id": "b58f6bde",
   "metadata": {},
   "outputs": [
    {
     "name": "stdout",
     "output_type": "stream",
     "text": [
      "400000 400000\n"
     ]
    }
   ],
   "source": [
    "# Checking to see if we got the split correct\n",
    "\n",
    "p = p.iloc[:int(len(p)/2)]\n",
    "n = n.iloc[:int(len(n)/2)]\n",
    "print(len(p), len(n))"
   ]
  },
  {
   "cell_type": "code",
   "execution_count": 8,
   "id": "d664023a",
   "metadata": {},
   "outputs": [
    {
     "data": {
      "text/plain": [
       "800000"
      ]
     },
     "execution_count": 8,
     "metadata": {},
     "output_type": "execute_result"
    }
   ],
   "source": [
    "# Combining them into a single dataframe again.\n",
    "\n",
    "df_train = pd.concat([p, n])\n",
    "len(df_train)"
   ]
  },
  {
   "cell_type": "markdown",
   "id": "3eecc1a1",
   "metadata": {},
   "source": [
    "### Data Cleaning"
   ]
  },
  {
   "cell_type": "code",
   "execution_count": 9,
   "id": "865d1954",
   "metadata": {},
   "outputs": [],
   "source": [
    "# Importing Tweet Tokenizer and creating an instance of it. \n",
    "\n",
    "from nltk.tokenize import TweetTokenizer\n",
    "token = TweetTokenizer(reduce_len=True)"
   ]
  },
  {
   "cell_type": "code",
   "execution_count": 10,
   "id": "cecab9aa",
   "metadata": {},
   "outputs": [],
   "source": [
    "# Creating a data array and extracting the values from the dataframe.\n",
    "\n",
    "data = []\n",
    "tweet = df_train['text'].tolist()\n",
    "sentiment = df_train['polarity'].tolist()"
   ]
  },
  {
   "cell_type": "code",
   "execution_count": 11,
   "id": "3292d55e",
   "metadata": {},
   "outputs": [],
   "source": [
    "# Re-Assigning the sentiment values # 0 - Negative, 1 - Positive\n",
    "\n",
    "for i, j in zip(tweet, sentiment):\n",
    "    if j == 4:\n",
    "        data.append((token.tokenize(i), 1))\n",
    "    else:\n",
    "        data.append((token.tokenize(i), 0))"
   ]
  },
  {
   "cell_type": "code",
   "execution_count": 12,
   "id": "a57aa1c8",
   "metadata": {},
   "outputs": [],
   "source": [
    "# Importing the Regular Expressions and String libraries\n",
    "\n",
    "import re, string"
   ]
  },
  {
   "cell_type": "code",
   "execution_count": 13,
   "id": "3a465aa8",
   "metadata": {},
   "outputs": [],
   "source": [
    "# Creating a funtion to replace some of the commonly used slangs while tweeting\n",
    "\n",
    "def slang_replace(tk):\n",
    "    if tk == 'u':\n",
    "        return 'you'\n",
    "    if tk == 'r':\n",
    "        return 'are'\n",
    "    if tk == 'some1':\n",
    "        return 'someone'\n",
    "    if tk == 'yrs':\n",
    "        return 'years'\n",
    "    if tk == 'hrs':\n",
    "        return 'hours'\n",
    "    if tk == 'mins':\n",
    "        return 'minutes'\n",
    "    if tk == 'secs':\n",
    "        return 'seconds'\n",
    "    if tk == 'pls' or tk == 'plz':\n",
    "        return 'please'\n",
    "    if tk == '2morow' or tk == '2moro':\n",
    "        return 'tomorrow'\n",
    "    if tk == '2day':\n",
    "        return 'today'\n",
    "    if tk == '4got' or tk == '4gotten':\n",
    "        return 'forget'\n",
    "    if tk in ['hahah', 'hahaha', 'hahahaha']:\n",
    "        return 'haha'\n",
    "    if tk == \"mother's\":\n",
    "        return \"mother\"\n",
    "    if tk == \"mom's\":\n",
    "        return \"mom\"\n",
    "    if tk == \"dad's\":\n",
    "        return \"dad\"\n",
    "    if tk == 'bday' or tk == 'b-day':\n",
    "        return 'birthday'\n",
    "    if tk in [\"i'm\", \"don't\", \"can't\", \"couldn't\", \"aren't\", \"wouldn't\", \"isn't\", \"didn't\", \"hadn't\",\n",
    "                 \"doesn't\", \"won't\", \"haven't\", \"wasn't\", \"hasn't\", \"shouldn't\", \"ain't\", \"they've\"]:\n",
    "        return tk.replace(\"'\", \"\")\n",
    "    if tk in ['lmao', 'lolz', 'rofl']:\n",
    "        return 'lol'\n",
    "    if tk == '<3':\n",
    "        return 'love'\n",
    "    if tk == 'thanx' or tk == 'thnx':\n",
    "        return 'thanks'\n",
    "    if tk == 'goood':\n",
    "        return 'good'\n",
    "    if tk in ['amp', 'quot', 'lt', 'gt', '½25', '..', '. .', '. . .']:\n",
    "        return ''\n",
    "    return tk\n"
   ]
  },
  {
   "cell_type": "code",
   "execution_count": 14,
   "id": "20023a92",
   "metadata": {},
   "outputs": [],
   "source": [
    "# Creating a function to clean the links, mentions and replace some of the widely used short forms in English with their\n",
    "# original words.\n",
    "\n",
    "def clean_data(tt):\n",
    "\n",
    "    clean_tks = []\n",
    "\n",
    "    for tokens in tt:\n",
    "        tokens = re.sub(r'''(?i)\\b((?:https?://|www\\d{0,3}[.]|[a-z0-9.\\-]+[.][a-z]{2,4}/)(?:[^\\s()<>]+|\\(([^\\s()<>]+|(\\([^\\s()<>]+\\)))*\\))+(?:\\(([^\\s()<>]+|(\\([^\\s()<>]+\\)))*\\)|[^\\s`!()\\[\\]{};:'\".,<>?«»“”‘’]))''', \" \", tokens)\n",
    "        tokens = re.sub(\"(@[A-Za-z0-9_]+)\",\"\", tokens)\n",
    "        \n",
    "        cl_tk = slang_replace(tokens.lower())\n",
    "        \n",
    "        if cl_tk == \"idk\":\n",
    "            clean_tks.append('i')\n",
    "            clean_tks.append('dont')\n",
    "            clean_tks.append('know')\n",
    "            continue\n",
    "        if cl_tk == \"i'll\":\n",
    "            clean_tks.append('i')\n",
    "            clean_tks.append('will')\n",
    "            continue\n",
    "        if cl_tk == \"you'll\":\n",
    "            clean_tks.append('you')\n",
    "            clean_tks.append('will')\n",
    "            continue\n",
    "        if cl_tk == \"we'll\":\n",
    "            clean_tks.append('we')\n",
    "            clean_tks.append('will')\n",
    "            continue\n",
    "        if cl_tk == \"it'll\":\n",
    "            clean_tks.append('it')\n",
    "            clean_tks.append('will')\n",
    "            continue\n",
    "        if cl_tk == \"it's\":\n",
    "            clean_tks.append('it')\n",
    "            clean_tks.append('is')\n",
    "            continue\n",
    "        if cl_tk == \"i've\":\n",
    "            clean_tks.append('i')\n",
    "            clean_tks.append('have')\n",
    "            continue\n",
    "        if cl_tk == \"you've\":\n",
    "            clean_tks.append('you')\n",
    "            clean_tks.append('have')\n",
    "            continue\n",
    "        if cl_tk == \"we've\":\n",
    "            clean_tks.append('we')\n",
    "            clean_tks.append('have')\n",
    "            continue\n",
    "        if cl_tk == \"they've\":\n",
    "            clean_tks.append('they')\n",
    "            clean_tks.append('have')\n",
    "            continue\n",
    "        if cl_tk == \"you're\":\n",
    "            clean_tks.append('you')\n",
    "            clean_tks.append('are')\n",
    "            continue\n",
    "        if cl_tk == \"we're\":\n",
    "            clean_tks.append('we')\n",
    "            clean_tks.append('are')\n",
    "            continue\n",
    "        if cl_tk == \"they're\":\n",
    "            clean_tks.append('they')\n",
    "            clean_tks.append('are')\n",
    "            continue\n",
    "        if cl_tk == \"let's\":\n",
    "            clean_tks.append('let')\n",
    "            clean_tks.append('us')\n",
    "            continue\n",
    "        if cl_tk == \"she's\":\n",
    "            clean_tks.append('she')\n",
    "            clean_tks.append('is')\n",
    "            continue\n",
    "        if cl_tk == \"he's\":\n",
    "            clean_tks.append('he')\n",
    "            clean_tks.append('is')\n",
    "            continue\n",
    "        if cl_tk == \"that's\":\n",
    "            clean_tks.append('that')\n",
    "            clean_tks.append('is')\n",
    "            continue\n",
    "        if cl_tk == \"i'd\":\n",
    "            clean_tks.append('i')\n",
    "            clean_tks.append('would')\n",
    "            continue\n",
    "        if cl_tk == \"you'd\":\n",
    "            clean_tks.append('you')\n",
    "            clean_tks.append('would')\n",
    "            continue\n",
    "        if cl_tk == \"there's\":\n",
    "            clean_tks.append('there')\n",
    "            clean_tks.append('is')\n",
    "            continue\n",
    "        if cl_tk == \"what's\":\n",
    "            clean_tks.append('what')\n",
    "            clean_tks.append('is')\n",
    "            continue\n",
    "        if cl_tk == \"how's\":\n",
    "            clean_tks.append('how')\n",
    "            clean_tks.append('is')\n",
    "            continue\n",
    "        if cl_tk == \"who's\":\n",
    "            clean_tks.append('who')\n",
    "            clean_tks.append('is')\n",
    "            continue\n",
    "        if cl_tk == \"y'all\" or cl_tk == \"ya'll\":\n",
    "            clean_tks.append('you')\n",
    "            clean_tks.append('all')\n",
    "            continue\n",
    "\n",
    "        if cl_tk.strip() and cl_tk not in string.punctuation: \n",
    "            clean_tks.append(cl_tk)\n",
    "            \n",
    "    return clean_tks\n"
   ]
  },
  {
   "cell_type": "markdown",
   "id": "e4686287",
   "metadata": {},
   "source": [
    "### Using GloVe\n",
    "\n",
    "### The GloVe word embeddings have been downloaded from http://nlp.stanford.edu/data/glove.6B.zip\n",
    "\n",
    "### The file glove.6B.50d.txt has been provided with this code file in the zip folder.\n",
    "\n",
    "### Please keep the file in the same folder as this notebook"
   ]
  },
  {
   "cell_type": "code",
   "execution_count": 15,
   "id": "9ec7c8ef",
   "metadata": {},
   "outputs": [],
   "source": [
    "# Creating a function to load the glove data file.\n",
    "\n",
    "def global_vec(file):\n",
    "    with open(file, 'r', encoding=\"utf8\") as fl:\n",
    "        word_set = set()\n",
    "        word_vec_map = {}\n",
    "        for line in fl:\n",
    "            line = line.strip().split()\n",
    "            curr_word = line[0]\n",
    "            word_set.add(curr_word)\n",
    "            word_vec_map[curr_word] = np.array(line[1:], dtype=np.float64)\n",
    "        \n",
    "        i = 1\n",
    "        words_index = {}\n",
    "        index_words = {}\n",
    "        for w in sorted(word_set):\n",
    "            words_index[w] = i\n",
    "            index_words[i] = w\n",
    "            i = i + 1\n",
    "    return words_index, index_words, word_vec_map"
   ]
  },
  {
   "cell_type": "code",
   "execution_count": 16,
   "id": "f652bfbc",
   "metadata": {},
   "outputs": [],
   "source": [
    "# Reading the Glove file.\n",
    "\n",
    "word_index, index_word, word_vec_map = global_vec('glove.6B.50d.txt')"
   ]
  },
  {
   "cell_type": "code",
   "execution_count": 17,
   "id": "cc0aa81e",
   "metadata": {},
   "outputs": [],
   "source": [
    "# Creating lists for the set of unknown words \n",
    "\n",
    "unk = []\n",
    "unk_final = []"
   ]
  },
  {
   "cell_type": "code",
   "execution_count": 18,
   "id": "7dc415ce",
   "metadata": {},
   "outputs": [],
   "source": [
    "# This function will be used as a final try to find the words in the embedding layer and will eliminate continously occuring\n",
    "# instances of a character.\n",
    "\n",
    "def last_word_embed(remain):\n",
    "    result = \"\"\n",
    "    previous = None\n",
    "    for alpha in remain:\n",
    "        if alpha == previous: continue\n",
    "        previous = alpha\n",
    "        result += alpha\n",
    "    return result"
   ]
  },
  {
   "cell_type": "code",
   "execution_count": 19,
   "id": "0691797c",
   "metadata": {},
   "outputs": [],
   "source": [
    "# This function will convert the sentences to indices\n",
    "\n",
    "def index_gen(sen_word, word_index, m_len, i):\n",
    "    global a, b \n",
    "    indices = []\n",
    "    for j, k in enumerate(sen_word):\n",
    "        try:\n",
    "            index = word_index[k]\n",
    "        except:\n",
    "            unk_final.append(k)\n",
    "            k = last_word_embed(k)\n",
    "            try:\n",
    "                index = word_index[k]\n",
    "            except:\n",
    "                index = word_index['unk']\n",
    "                unk.append(k)\n",
    "        a[i, j] = index"
   ]
  },
  {
   "cell_type": "code",
   "execution_count": 20,
   "id": "fae2cb01",
   "metadata": {},
   "outputs": [],
   "source": [
    "# Creating a list to store our cleaned tokens\n",
    "\n",
    "clean_token = []\n",
    "   \n",
    "for tn, sentiment in data:\n",
    "    z = clean_data(tn)\n",
    "    if z:\n",
    "        clean_token.append((z, sentiment))"
   ]
  },
  {
   "cell_type": "code",
   "execution_count": 21,
   "id": "91cfd579",
   "metadata": {},
   "outputs": [],
   "source": [
    "# Getting the length of the list\n",
    "\n",
    "len_list = [len(i) for i, j in clean_token]\n",
    "len_max = max(len_list)"
   ]
  },
  {
   "cell_type": "code",
   "execution_count": 22,
   "id": "a606a512",
   "metadata": {},
   "outputs": [],
   "source": [
    "# Creating variables initialized with zeros\n",
    "\n",
    "a = np.zeros((len(clean_token), len_max))\n",
    "b = np.zeros((len(clean_token), ))"
   ]
  },
  {
   "cell_type": "code",
   "execution_count": 23,
   "id": "b760e636",
   "metadata": {},
   "outputs": [],
   "source": [
    "# Combining our tokens and sentiments\n",
    "\n",
    "for i, tks in enumerate(clean_token):\n",
    "    tkn, senti = tks\n",
    "    index_gen(tkn, word_index, len_max, i)\n",
    "    b[i] = senti"
   ]
  },
  {
   "cell_type": "markdown",
   "id": "36da56b0",
   "metadata": {},
   "source": [
    "### Building the Bi-Directional Gated Recurrent Unit Model"
   ]
  },
  {
   "cell_type": "code",
   "execution_count": 24,
   "id": "d2f7eaf1",
   "metadata": {},
   "outputs": [],
   "source": [
    "# Importing relevant libraries\n",
    "\n",
    "import keras\n",
    "from keras import Sequential\n",
    "from keras.models import Model\n",
    "from keras.layers import Dense, GRU, Bidirectional\n",
    "from keras.layers.embeddings import Embedding\n",
    "from sklearn.model_selection import train_test_split\n",
    "from sklearn.metrics import confusion_matrix, classification_report, accuracy_score"
   ]
  },
  {
   "cell_type": "code",
   "execution_count": 25,
   "id": "f0eff852",
   "metadata": {},
   "outputs": [],
   "source": [
    "# Preparing our pre embedding layer function\n",
    "\n",
    "def pre_embed(word_vec_map, word_index, len_max):\n",
    "    len_vocab = len(word_index) + 1\n",
    "    embed_shape = word_vec_map[\"unk\"].shape[0]\n",
    "    \n",
    "    mat = np.zeros((len_vocab, embed_shape))\n",
    "    \n",
    "    for word, index in word_index.items():\n",
    "        mat[index, :] = word_vec_map[word]\n",
    "        \n",
    "    layer = Embedding(len_vocab, embed_shape, trainable=False, input_shape=(len_max,))\n",
    "    layer.build((None,))\n",
    "    layer.set_weights([mat])\n",
    "    \n",
    "    return layer"
   ]
  },
  {
   "cell_type": "code",
   "execution_count": 26,
   "id": "1beaefd9",
   "metadata": {},
   "outputs": [
    {
     "name": "stdout",
     "output_type": "stream",
     "text": [
      "Model: \"sequential\"\n",
      "_________________________________________________________________\n",
      " Layer (type)                Output Shape              Param #   \n",
      "=================================================================\n",
      " embedding (Embedding)       (None, 309, 50)           20000050  \n",
      "                                                                 \n",
      " bidirectional (Bidirectiona  (None, 309, 256)         138240    \n",
      " l)                                                              \n",
      "                                                                 \n",
      " bidirectional_1 (Bidirectio  (None, 256)              296448    \n",
      " nal)                                                            \n",
      "                                                                 \n",
      " dense (Dense)               (None, 1)                 257       \n",
      "                                                                 \n",
      "=================================================================\n",
      "Total params: 20,434,995\n",
      "Trainable params: 434,945\n",
      "Non-trainable params: 20,000,050\n",
      "_________________________________________________________________\n"
     ]
    }
   ],
   "source": [
    "# Creating instance of our model, adding layers, defining activation function and generating a summary\n",
    "\n",
    "keras.backend.clear_session()\n",
    "classifier = Sequential()\n",
    "classifier.add(pre_embed(word_vec_map, word_index, len_max))\n",
    "classifier.add(Bidirectional(GRU(units=128, return_sequences=True)))\n",
    "classifier.add(Bidirectional(GRU(units=128, return_sequences=False)))\n",
    "classifier.add(Dense(units=1, activation='sigmoid'))\n",
    "classifier.summary()"
   ]
  },
  {
   "cell_type": "code",
   "execution_count": 27,
   "id": "bbe0e723",
   "metadata": {},
   "outputs": [],
   "source": [
    "# Compiling our model, while defining the loss function, optimizer and result calculation metrics\n",
    "\n",
    "classifier.compile(loss='binary_crossentropy', optimizer='adam', metrics=['accuracy'])"
   ]
  },
  {
   "cell_type": "code",
   "execution_count": 28,
   "id": "35378815",
   "metadata": {},
   "outputs": [],
   "source": [
    "# Splitting our data into 90% training and 10% testing datasets\n",
    "\n",
    "X_train, X_test, y_train, y_test = train_test_split(a, b, test_size=0.1, random_state=0, stratify=b)"
   ]
  },
  {
   "cell_type": "code",
   "execution_count": 29,
   "id": "6ef4106e",
   "metadata": {},
   "outputs": [
    {
     "name": "stdout",
     "output_type": "stream",
     "text": [
      "Epoch 1/5\n",
      "5614/5614 [==============================] - 573s 101ms/step - loss: 0.4654 - accuracy: 0.7760 - val_loss: 0.4229 - val_accuracy: 0.8043\n",
      "Epoch 2/5\n",
      "5614/5614 [==============================] - 561s 100ms/step - loss: 0.4055 - accuracy: 0.8141 - val_loss: 0.4077 - val_accuracy: 0.8131\n",
      "Epoch 3/5\n",
      "5614/5614 [==============================] - 564s 100ms/step - loss: 0.3798 - accuracy: 0.8286 - val_loss: 0.3983 - val_accuracy: 0.8183\n",
      "Epoch 4/5\n",
      "5614/5614 [==============================] - 565s 101ms/step - loss: 0.3656 - accuracy: 0.8363 - val_loss: 0.4030 - val_accuracy: 0.8187\n",
      "Epoch 5/5\n",
      "5614/5614 [==============================] - 562s 100ms/step - loss: 0.3459 - accuracy: 0.8467 - val_loss: 0.4081 - val_accuracy: 0.8169\n"
     ]
    }
   ],
   "source": [
    "# Fitting the model to our datasets\n",
    "\n",
    "history1 = classifier.fit(X_train, y_train, validation_data=(X_test, y_test), epochs = 5, batch_size = 128, shuffle=True)"
   ]
  },
  {
   "cell_type": "code",
   "execution_count": 30,
   "id": "933a4062",
   "metadata": {},
   "outputs": [
    {
     "name": "stdout",
     "output_type": "stream",
     "text": [
      "624/624 [==============================] - 29s 46ms/step - loss: 0.4081 - accuracy: 0.8169\n"
     ]
    }
   ],
   "source": [
    "# Calculating the accuracy\n",
    "\n",
    "acc1 = classifier.evaluate(X_test, y_test, batch_size=128)"
   ]
  },
  {
   "cell_type": "code",
   "execution_count": 31,
   "id": "3ea2fc67",
   "metadata": {},
   "outputs": [
    {
     "name": "stdout",
     "output_type": "stream",
     "text": [
      "GRU Test Loss, GRU Test Accuracy:  [0.4081299901008606, 0.8169326186180115]\n"
     ]
    }
   ],
   "source": [
    "# Printing the Test Loss and Test Accuracy for GRU\n",
    "\n",
    "print('GRU Test Loss, GRU Test Accuracy: ', acc1)"
   ]
  },
  {
   "cell_type": "code",
   "execution_count": 32,
   "id": "2b1cbeb8",
   "metadata": {},
   "outputs": [
    {
     "data": {
      "image/png": "[encoded data removed]",
      "text/plain": [
       "<Figure size 432x288 with 1 Axes>"
      ]
     },
     "metadata": {
      "needs_background": "light"
     },
     "output_type": "display_data"
    }
   ],
   "source": [
    "# Plotting the charts for model accuracy vs number of epochs\n",
    "\n",
    "plt.plot(history1.history['accuracy'])\n",
    "plt.plot(history1.history['val_accuracy'])\n",
    "plt.title('model accuracy')\n",
    "plt.ylabel('accuracy')\n",
    "plt.xlabel('epoch')\n",
    "plt.legend(['train', 'test'], loc='upper left')\n",
    "plt.show()"
   ]
  },
  {
   "cell_type": "code",
   "execution_count": 33,
   "id": "2f9405d8",
   "metadata": {},
   "outputs": [
    {
     "data": {
      "image/png": "[encoded data removed]",
      "text/plain": [
       "<Figure size 432x288 with 1 Axes>"
      ]
     },
     "metadata": {
      "needs_background": "light"
     },
     "output_type": "display_data"
    }
   ],
   "source": [
    "# Plotting the charts for loss vs the number of epochs\n",
    "\n",
    "plt.plot(history1.history['loss'])\n",
    "plt.plot(history1.history['val_loss'])\n",
    "plt.title('model loss')\n",
    "plt.ylabel('loss')\n",
    "plt.xlabel('epoch')\n",
    "plt.legend(['train', 'test'], loc='upper left')\n",
    "plt.show()"
   ]
  },
  {
   "cell_type": "markdown",
   "id": "c4432ba6",
   "metadata": {},
   "source": [
    "### We have achieved 81.69 % accuracy on the test set, while utilizing only half of the given dataset, hence this accuracy can be further improved to greater than 90% if we use the complete dataset and train the model on more number of epochs."
   ]
  },
  {
   "cell_type": "markdown",
   "id": "c68352c3",
   "metadata": {},
   "source": [
    "### There were only 2 sentiments present in the training dataset, Positive and Negative, and our model is trained to only recognize either of them."
   ]
  },
  {
   "cell_type": "markdown",
   "id": "5a88c1d2",
   "metadata": {},
   "source": [
    "###  But we found out that there was another file mentioned in the links to the dataset. This file had a neutral sentiment attached to it along with the positive and negative sentiments."
   ]
  },
  {
   "cell_type": "markdown",
   "id": "9dd26383",
   "metadata": {},
   "source": [
    "###  We will try to see, how our model performs on this new type of sentiment, even though it has not been trained on such tweets."
   ]
  },
  {
   "cell_type": "code",
   "execution_count": 35,
   "id": "141d82d8",
   "metadata": {},
   "outputs": [],
   "source": [
    "# This function will convert the sentences to indices\n",
    "\n",
    "def index_gen(sen_word, m_len):\n",
    "    a = np.zeros((m_len))\n",
    "    indices = []\n",
    "    for j, k in enumerate(sen_word):\n",
    "        try:\n",
    "            index = word_index[k]\n",
    "        except:\n",
    "            k = last_word_embed(k)\n",
    "            try:\n",
    "                index = word_index[k]\n",
    "            except:\n",
    "                index = word_index['unk']\n",
    "        a[j] = index\n",
    "    return a"
   ]
  },
  {
   "cell_type": "code",
   "execution_count": 36,
   "id": "6c800042",
   "metadata": {},
   "outputs": [],
   "source": [
    "# This function converts the tweets so it can be fed to the model and gives out the prediction probabilities\n",
    "# The Closer the probabilty is to 1, the sentiment is positive and the closer it is to 0, the sentiment will be negative.\n",
    "\n",
    "def val_data(t):\n",
    "    x = index_gen(clean_data(token.tokenize(t)), len_max)\n",
    "    return classifier.predict(np.array([x])).item()"
   ]
  },
  {
   "cell_type": "code",
   "execution_count": 37,
   "id": "399c87c3",
   "metadata": {},
   "outputs": [
    {
     "data": {
      "text/html": [
       "<div>\n",
       "<style scoped>\n",
       "    .dataframe tbody tr th:only-of-type {\n",
       "        vertical-align: middle;\n",
       "    }\n",
       "\n",
       "    .dataframe tbody tr th {\n",
       "        vertical-align: top;\n",
       "    }\n",
       "\n",
       "    .dataframe thead th {\n",
       "        text-align: right;\n",
       "    }\n",
       "</style>\n",
       "<table border=\"1\" class=\"dataframe\">\n",
       "  <thead>\n",
       "    <tr style=\"text-align: right;\">\n",
       "      <th></th>\n",
       "      <th>polarity</th>\n",
       "      <th>id</th>\n",
       "      <th>date</th>\n",
       "      <th>query</th>\n",
       "      <th>user</th>\n",
       "      <th>text</th>\n",
       "    </tr>\n",
       "  </thead>\n",
       "  <tbody>\n",
       "    <tr>\n",
       "      <th>0</th>\n",
       "      <td>4</td>\n",
       "      <td>4</td>\n",
       "      <td>Mon May 11 03:18:03 UTC 2009</td>\n",
       "      <td>kindle2</td>\n",
       "      <td>vcu451</td>\n",
       "      <td>Reading my kindle2...  Love it... Lee childs i...</td>\n",
       "    </tr>\n",
       "    <tr>\n",
       "      <th>1</th>\n",
       "      <td>4</td>\n",
       "      <td>5</td>\n",
       "      <td>Mon May 11 03:18:54 UTC 2009</td>\n",
       "      <td>kindle2</td>\n",
       "      <td>chadfu</td>\n",
       "      <td>Ok, first assesment of the #kindle2 ...it fuck...</td>\n",
       "    </tr>\n",
       "    <tr>\n",
       "      <th>2</th>\n",
       "      <td>4</td>\n",
       "      <td>6</td>\n",
       "      <td>Mon May 11 03:19:04 UTC 2009</td>\n",
       "      <td>kindle2</td>\n",
       "      <td>SIX15</td>\n",
       "      <td>@kenburbary You'll love your Kindle2. I've had...</td>\n",
       "    </tr>\n",
       "    <tr>\n",
       "      <th>3</th>\n",
       "      <td>4</td>\n",
       "      <td>7</td>\n",
       "      <td>Mon May 11 03:21:41 UTC 2009</td>\n",
       "      <td>kindle2</td>\n",
       "      <td>yamarama</td>\n",
       "      <td>@mikefish  Fair enough. But i have the Kindle2...</td>\n",
       "    </tr>\n",
       "    <tr>\n",
       "      <th>4</th>\n",
       "      <td>4</td>\n",
       "      <td>8</td>\n",
       "      <td>Mon May 11 03:22:00 UTC 2009</td>\n",
       "      <td>kindle2</td>\n",
       "      <td>GeorgeVHulme</td>\n",
       "      <td>@richardebaker no. it is too big. I'm quite ha...</td>\n",
       "    </tr>\n",
       "  </tbody>\n",
       "</table>\n",
       "</div>"
      ],
      "text/plain": [
       "   polarity  id                          date    query          user  \\\n",
       "0         4   4  Mon May 11 03:18:03 UTC 2009  kindle2        vcu451   \n",
       "1         4   5  Mon May 11 03:18:54 UTC 2009  kindle2        chadfu   \n",
       "2         4   6  Mon May 11 03:19:04 UTC 2009  kindle2         SIX15   \n",
       "3         4   7  Mon May 11 03:21:41 UTC 2009  kindle2      yamarama   \n",
       "4         4   8  Mon May 11 03:22:00 UTC 2009  kindle2  GeorgeVHulme   \n",
       "\n",
       "                                                text  \n",
       "0  Reading my kindle2...  Love it... Lee childs i...  \n",
       "1  Ok, first assesment of the #kindle2 ...it fuck...  \n",
       "2  @kenburbary You'll love your Kindle2. I've had...  \n",
       "3  @mikefish  Fair enough. But i have the Kindle2...  \n",
       "4  @richardebaker no. it is too big. I'm quite ha...  "
      ]
     },
     "execution_count": 37,
     "metadata": {},
     "output_type": "execute_result"
    }
   ],
   "source": [
    "# Reading the dataset\n",
    "\n",
    "df_val_raw = pd.read_csv('test.csv', sep=',', header=0, encoding = \"ISO-8859-1\")\n",
    "df_val_raw.columns = [\"polarity\", \"id\", \"date\", \"query\", \"user\", \"text\"]\n",
    "df_val_raw.head()"
   ]
  },
  {
   "cell_type": "code",
   "execution_count": 38,
   "id": "d5f2d7bb",
   "metadata": {},
   "outputs": [
    {
     "data": {
      "text/plain": [
       "4    181\n",
       "0    177\n",
       "2    139\n",
       "Name: polarity, dtype: int64"
      ]
     },
     "execution_count": 38,
     "metadata": {},
     "output_type": "execute_result"
    }
   ],
   "source": [
    "# Checking the number of sentiments in each category\n",
    "\n",
    "#  0 = negative, 2 = neutral, 4 = positive\n",
    "\n",
    "df_val_raw['polarity'].value_counts()"
   ]
  },
  {
   "cell_type": "code",
   "execution_count": 39,
   "id": "b544b661",
   "metadata": {},
   "outputs": [
    {
     "data": {
      "text/html": [
       "<div>\n",
       "<style scoped>\n",
       "    .dataframe tbody tr th:only-of-type {\n",
       "        vertical-align: middle;\n",
       "    }\n",
       "\n",
       "    .dataframe tbody tr th {\n",
       "        vertical-align: top;\n",
       "    }\n",
       "\n",
       "    .dataframe thead th {\n",
       "        text-align: right;\n",
       "    }\n",
       "</style>\n",
       "<table border=\"1\" class=\"dataframe\">\n",
       "  <thead>\n",
       "    <tr style=\"text-align: right;\">\n",
       "      <th></th>\n",
       "      <th>polarity</th>\n",
       "      <th>text</th>\n",
       "    </tr>\n",
       "  </thead>\n",
       "  <tbody>\n",
       "    <tr>\n",
       "      <th>0</th>\n",
       "      <td>4</td>\n",
       "      <td>Reading my kindle2...  Love it... Lee childs i...</td>\n",
       "    </tr>\n",
       "    <tr>\n",
       "      <th>1</th>\n",
       "      <td>4</td>\n",
       "      <td>Ok, first assesment of the #kindle2 ...it fuck...</td>\n",
       "    </tr>\n",
       "    <tr>\n",
       "      <th>2</th>\n",
       "      <td>4</td>\n",
       "      <td>@kenburbary You'll love your Kindle2. I've had...</td>\n",
       "    </tr>\n",
       "    <tr>\n",
       "      <th>3</th>\n",
       "      <td>4</td>\n",
       "      <td>@mikefish  Fair enough. But i have the Kindle2...</td>\n",
       "    </tr>\n",
       "    <tr>\n",
       "      <th>4</th>\n",
       "      <td>4</td>\n",
       "      <td>@richardebaker no. it is too big. I'm quite ha...</td>\n",
       "    </tr>\n",
       "  </tbody>\n",
       "</table>\n",
       "</div>"
      ],
      "text/plain": [
       "   polarity                                               text\n",
       "0         4  Reading my kindle2...  Love it... Lee childs i...\n",
       "1         4  Ok, first assesment of the #kindle2 ...it fuck...\n",
       "2         4  @kenburbary You'll love your Kindle2. I've had...\n",
       "3         4  @mikefish  Fair enough. But i have the Kindle2...\n",
       "4         4  @richardebaker no. it is too big. I'm quite ha..."
      ]
     },
     "execution_count": 39,
     "metadata": {},
     "output_type": "execute_result"
    }
   ],
   "source": [
    "# Extracting only the required columns from the original dataset\n",
    "\n",
    "df_val = df_val_raw[['polarity', 'text']]\n",
    "df_val.head()"
   ]
  },
  {
   "cell_type": "code",
   "execution_count": 40,
   "id": "55adbeef",
   "metadata": {},
   "outputs": [
    {
     "name": "stdout",
     "output_type": "stream",
     "text": [
      "<class 'pandas.core.frame.DataFrame'>\n",
      "RangeIndex: 497 entries, 0 to 496\n",
      "Data columns (total 2 columns):\n",
      " #   Column    Non-Null Count  Dtype \n",
      "---  ------    --------------  ----- \n",
      " 0   polarity  497 non-null    int64 \n",
      " 1   text      497 non-null    object\n",
      "dtypes: int64(1), object(1)\n",
      "memory usage: 7.9+ KB\n"
     ]
    }
   ],
   "source": [
    "# Getting info about the dataset to see if there are any null values and checking the datatype of each column\n",
    "\n",
    "df_val.info()"
   ]
  },
  {
   "cell_type": "code",
   "execution_count": 41,
   "id": "55607109",
   "metadata": {},
   "outputs": [],
   "source": [
    "# Creating a data array and extracting the values from the dataframe.\n",
    "\n",
    "pred_polarity = []\n",
    "val_tweet = df_val['text'].tolist()\n",
    "val_sentiment = df_val['polarity'].tolist()"
   ]
  },
  {
   "cell_type": "code",
   "execution_count": 42,
   "id": "d640a08c",
   "metadata": {},
   "outputs": [],
   "source": [
    "# As our model will not be able to make predictions for the Netural Sentiment, we have created a score range for the prediction\n",
    "# probabilities. Where If the predicted probability score is less than 0.30 it will be considered a Negative Sentiment, if the\n",
    "# score is greater than 0.70 it will be considered a Positive Sentiment and the score that falls in between will be considered \n",
    "# as Neutral sentiment.\n",
    "\n",
    "\n",
    "for i in range(len(val_sentiment)):\n",
    "    \n",
    "    if val_data(val_tweet[i]) < 0.30:\n",
    "        pred_polarity.append(0)\n",
    "    elif val_data(val_tweet[i]) > 0.70:\n",
    "        pred_polarity.append(4)\n",
    "    else:\n",
    "        pred_polarity.append(2)"
   ]
  },
  {
   "cell_type": "code",
   "execution_count": 43,
   "id": "32713904",
   "metadata": {},
   "outputs": [],
   "source": [
    "# Reassigning the predicted polarities back to the dataset for a comparision.\n",
    "\n",
    "df_val = df_val.assign(predicted_polarity = pred_polarity)"
   ]
  },
  {
   "cell_type": "code",
   "execution_count": 44,
   "id": "af77aa77",
   "metadata": {},
   "outputs": [
    {
     "data": {
      "text/html": [
       "<div>\n",
       "<style scoped>\n",
       "    .dataframe tbody tr th:only-of-type {\n",
       "        vertical-align: middle;\n",
       "    }\n",
       "\n",
       "    .dataframe tbody tr th {\n",
       "        vertical-align: top;\n",
       "    }\n",
       "\n",
       "    .dataframe thead th {\n",
       "        text-align: right;\n",
       "    }\n",
       "</style>\n",
       "<table border=\"1\" class=\"dataframe\">\n",
       "  <thead>\n",
       "    <tr style=\"text-align: right;\">\n",
       "      <th></th>\n",
       "      <th>polarity</th>\n",
       "      <th>text</th>\n",
       "      <th>predicted_polarity</th>\n",
       "    </tr>\n",
       "  </thead>\n",
       "  <tbody>\n",
       "    <tr>\n",
       "      <th>0</th>\n",
       "      <td>4</td>\n",
       "      <td>Reading my kindle2...  Love it... Lee childs i...</td>\n",
       "      <td>4</td>\n",
       "    </tr>\n",
       "    <tr>\n",
       "      <th>1</th>\n",
       "      <td>4</td>\n",
       "      <td>Ok, first assesment of the #kindle2 ...it fuck...</td>\n",
       "      <td>4</td>\n",
       "    </tr>\n",
       "    <tr>\n",
       "      <th>2</th>\n",
       "      <td>4</td>\n",
       "      <td>@kenburbary You'll love your Kindle2. I've had...</td>\n",
       "      <td>2</td>\n",
       "    </tr>\n",
       "    <tr>\n",
       "      <th>3</th>\n",
       "      <td>4</td>\n",
       "      <td>@mikefish  Fair enough. But i have the Kindle2...</td>\n",
       "      <td>4</td>\n",
       "    </tr>\n",
       "    <tr>\n",
       "      <th>4</th>\n",
       "      <td>4</td>\n",
       "      <td>@richardebaker no. it is too big. I'm quite ha...</td>\n",
       "      <td>2</td>\n",
       "    </tr>\n",
       "    <tr>\n",
       "      <th>...</th>\n",
       "      <td>...</td>\n",
       "      <td>...</td>\n",
       "      <td>...</td>\n",
       "    </tr>\n",
       "    <tr>\n",
       "      <th>492</th>\n",
       "      <td>2</td>\n",
       "      <td>Ask Programming: LaTeX or InDesign?: submitted...</td>\n",
       "      <td>4</td>\n",
       "    </tr>\n",
       "    <tr>\n",
       "      <th>493</th>\n",
       "      <td>0</td>\n",
       "      <td>On that note, I hate Word. I hate Pages. I hat...</td>\n",
       "      <td>0</td>\n",
       "    </tr>\n",
       "    <tr>\n",
       "      <th>494</th>\n",
       "      <td>4</td>\n",
       "      <td>Ahhh... back in a *real* text editing environm...</td>\n",
       "      <td>2</td>\n",
       "    </tr>\n",
       "    <tr>\n",
       "      <th>495</th>\n",
       "      <td>0</td>\n",
       "      <td>Trouble in Iran, I see. Hmm. Iran. Iran so far...</td>\n",
       "      <td>0</td>\n",
       "    </tr>\n",
       "    <tr>\n",
       "      <th>496</th>\n",
       "      <td>0</td>\n",
       "      <td>Reading the tweets coming out of Iran... The w...</td>\n",
       "      <td>0</td>\n",
       "    </tr>\n",
       "  </tbody>\n",
       "</table>\n",
       "<p>497 rows × 3 columns</p>\n",
       "</div>"
      ],
      "text/plain": [
       "     polarity                                               text  \\\n",
       "0           4  Reading my kindle2...  Love it... Lee childs i...   \n",
       "1           4  Ok, first assesment of the #kindle2 ...it fuck...   \n",
       "2           4  @kenburbary You'll love your Kindle2. I've had...   \n",
       "3           4  @mikefish  Fair enough. But i have the Kindle2...   \n",
       "4           4  @richardebaker no. it is too big. I'm quite ha...   \n",
       "..        ...                                                ...   \n",
       "492         2  Ask Programming: LaTeX or InDesign?: submitted...   \n",
       "493         0  On that note, I hate Word. I hate Pages. I hat...   \n",
       "494         4  Ahhh... back in a *real* text editing environm...   \n",
       "495         0  Trouble in Iran, I see. Hmm. Iran. Iran so far...   \n",
       "496         0  Reading the tweets coming out of Iran... The w...   \n",
       "\n",
       "     predicted_polarity  \n",
       "0                     4  \n",
       "1                     4  \n",
       "2                     2  \n",
       "3                     4  \n",
       "4                     2  \n",
       "..                  ...  \n",
       "492                   4  \n",
       "493                   0  \n",
       "494                   2  \n",
       "495                   0  \n",
       "496                   0  \n",
       "\n",
       "[497 rows x 3 columns]"
      ]
     },
     "execution_count": 44,
     "metadata": {},
     "output_type": "execute_result"
    }
   ],
   "source": [
    "# Checking the dataset\n",
    "\n",
    "df_val"
   ]
  },
  {
   "cell_type": "code",
   "execution_count": 45,
   "id": "a10f67f0",
   "metadata": {},
   "outputs": [
    {
     "name": "stdout",
     "output_type": "stream",
     "text": [
      "<class 'pandas.core.frame.DataFrame'>\n",
      "RangeIndex: 497 entries, 0 to 496\n",
      "Data columns (total 3 columns):\n",
      " #   Column              Non-Null Count  Dtype \n",
      "---  ------              --------------  ----- \n",
      " 0   polarity            497 non-null    int64 \n",
      " 1   text                497 non-null    object\n",
      " 2   predicted_polarity  497 non-null    int64 \n",
      "dtypes: int64(2), object(1)\n",
      "memory usage: 11.8+ KB\n"
     ]
    }
   ],
   "source": [
    "# Making sure the appending is correct with no null values\n",
    "\n",
    "df_val.info()"
   ]
  },
  {
   "cell_type": "code",
   "execution_count": 46,
   "id": "acc766a7",
   "metadata": {},
   "outputs": [
    {
     "name": "stdout",
     "output_type": "stream",
     "text": [
      "0.579476861167002\n"
     ]
    }
   ],
   "source": [
    "# Getting the accuracy score\n",
    "\n",
    "print(accuracy_score(df_val['polarity'],df_val['predicted_polarity']))"
   ]
  },
  {
   "cell_type": "code",
   "execution_count": 47,
   "id": "b7bf9fd2",
   "metadata": {},
   "outputs": [
    {
     "name": "stdout",
     "output_type": "stream",
     "text": [
      "[[127  31  19]\n",
      " [ 24  36  79]\n",
      " [ 16  40 125]]\n"
     ]
    }
   ],
   "source": [
    "# Getting the confusion matrix\n",
    "\n",
    "print(confusion_matrix(df_val['polarity'],df_val['predicted_polarity']))"
   ]
  },
  {
   "cell_type": "code",
   "execution_count": 48,
   "id": "4a6bc2e1",
   "metadata": {},
   "outputs": [
    {
     "name": "stdout",
     "output_type": "stream",
     "text": [
      "              precision    recall  f1-score   support\n",
      "\n",
      "           0       0.76      0.72      0.74       177\n",
      "           2       0.34      0.26      0.29       139\n",
      "           4       0.56      0.69      0.62       181\n",
      "\n",
      "    accuracy                           0.58       497\n",
      "   macro avg       0.55      0.56      0.55       497\n",
      "weighted avg       0.57      0.58      0.57       497\n",
      "\n"
     ]
    }
   ],
   "source": [
    "# Printing the classification report.\n",
    "\n",
    "print(classification_report(df_val['polarity'],df_val['predicted_polarity']))"
   ]
  },
  {
   "cell_type": "markdown",
   "id": "3ad7d8bc",
   "metadata": {},
   "source": [
    "### From the classfication report it is evident that our model has performed good on the Positive and Negative sentiments."
   ]
  },
  {
   "cell_type": "markdown",
   "id": "7de0634c",
   "metadata": {},
   "source": [
    "###  But to our surprise, it has also predicted 34% of the Neutral sentiments correctly, for which it was not trained at all."
   ]
  },
  {
   "cell_type": "markdown",
   "id": "34c62367",
   "metadata": {},
   "source": [
    "### It is only because of the neutral sentiment that the overall accuracy has decreased, which goes on to show that the model is a great fit for predicting the positive and negative sentiments on which it was trained."
   ]
  }
 ],
 "metadata": {
  "kernelspec": {
   "display_name": "Python 3",
   "language": "python",
   "name": "python3"
  },
  "language_info": {
   "codemirror_mode": {
    "name": "ipython",
    "version": 3
   },
   "file_extension": ".py",
   "mimetype": "text/x-python",
   "name": "python",
   "nbconvert_exporter": "python",
   "pygments_lexer": "ipython3",
   "version": "3.8.10"
  }
 },
 "nbformat": 4,
 "nbformat_minor": 5
}
